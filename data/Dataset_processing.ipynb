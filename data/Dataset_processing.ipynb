{
  "cells": [
    {
      "cell_type": "markdown",
      "metadata": {
        "colab_type": "text",
        "id": "view-in-github"
      },
      "source": [
        "<a href=\"https://colab.research.google.com/github/Nielk74/ia-clothes/blob/master/Dataset_processing.ipynb\" target=\"_parent\"><img src=\"https://colab.research.google.com/assets/colab-badge.svg\" alt=\"Open In Colab\"/></a>"
      ]
    },
    {
      "cell_type": "markdown",
      "metadata": {
        "id": "RsmSvTQ1Vxpu"
      },
      "source": [
        "# Présentation\n",
        "\n",
        "Ce notebook permet d'extraire la couleur du haut, du bas et la couleur de peau de photos de mannequin. Le jeu de données utilisé ici provient de [DeepFashion-MultiModal](https://github.com/yumingj/DeepFashion-MultiModal). Un autre jeu de données provenant du site de blog [STYLE DU MONDE](https://styledumonde.com/) avec les photographies de 2008 à septembre 2023 a été construit."
      ]
    },
    {
      "cell_type": "code",
      "execution_count": null,
      "metadata": {
        "colab": {
          "base_uri": "https://localhost:8080/"
        },
        "id": "F3UKN07UHV_r",
        "outputId": "4cffc456-9db7-4486-948f-1377740f6b02"
      },
      "outputs": [
        {
          "name": "stdout",
          "output_type": "stream",
          "text": [
            "Requirement already satisfied: transformers in /usr/local/lib/python3.10/dist-packages (4.35.2)\n",
            "Requirement already satisfied: filelock in /usr/local/lib/python3.10/dist-packages (from transformers) (3.13.1)\n",
            "Requirement already satisfied: huggingface-hub<1.0,>=0.16.4 in /usr/local/lib/python3.10/dist-packages (from transformers) (0.19.4)\n",
            "Requirement already satisfied: numpy>=1.17 in /usr/local/lib/python3.10/dist-packages (from transformers) (1.23.5)\n",
            "Requirement already satisfied: packaging>=20.0 in /usr/local/lib/python3.10/dist-packages (from transformers) (23.2)\n",
            "Requirement already satisfied: pyyaml>=5.1 in /usr/local/lib/python3.10/dist-packages (from transformers) (6.0.1)\n",
            "Requirement already satisfied: regex!=2019.12.17 in /usr/local/lib/python3.10/dist-packages (from transformers) (2023.6.3)\n",
            "Requirement already satisfied: requests in /usr/local/lib/python3.10/dist-packages (from transformers) (2.31.0)\n",
            "Requirement already satisfied: tokenizers<0.19,>=0.14 in /usr/local/lib/python3.10/dist-packages (from transformers) (0.15.0)\n",
            "Requirement already satisfied: safetensors>=0.3.1 in /usr/local/lib/python3.10/dist-packages (from transformers) (0.4.1)\n",
            "Requirement already satisfied: tqdm>=4.27 in /usr/local/lib/python3.10/dist-packages (from transformers) (4.66.1)\n",
            "Requirement already satisfied: fsspec>=2023.5.0 in /usr/local/lib/python3.10/dist-packages (from huggingface-hub<1.0,>=0.16.4->transformers) (2023.6.0)\n",
            "Requirement already satisfied: typing-extensions>=3.7.4.3 in /usr/local/lib/python3.10/dist-packages (from huggingface-hub<1.0,>=0.16.4->transformers) (4.5.0)\n",
            "Requirement already satisfied: charset-normalizer<4,>=2 in /usr/local/lib/python3.10/dist-packages (from requests->transformers) (3.3.2)\n",
            "Requirement already satisfied: idna<4,>=2.5 in /usr/local/lib/python3.10/dist-packages (from requests->transformers) (3.6)\n",
            "Requirement already satisfied: urllib3<3,>=1.21.1 in /usr/local/lib/python3.10/dist-packages (from requests->transformers) (2.0.7)\n",
            "Requirement already satisfied: certifi>=2017.4.17 in /usr/local/lib/python3.10/dist-packages (from requests->transformers) (2023.11.17)\n",
            "Requirement already satisfied: torch in /usr/local/lib/python3.10/dist-packages (2.1.0+cu118)\n",
            "Requirement already satisfied: filelock in /usr/local/lib/python3.10/dist-packages (from torch) (3.13.1)\n",
            "Requirement already satisfied: typing-extensions in /usr/local/lib/python3.10/dist-packages (from torch) (4.5.0)\n",
            "Requirement already satisfied: sympy in /usr/local/lib/python3.10/dist-packages (from torch) (1.12)\n",
            "Requirement already satisfied: networkx in /usr/local/lib/python3.10/dist-packages (from torch) (3.2.1)\n",
            "Requirement already satisfied: jinja2 in /usr/local/lib/python3.10/dist-packages (from torch) (3.1.2)\n",
            "Requirement already satisfied: fsspec in /usr/local/lib/python3.10/dist-packages (from torch) (2023.6.0)\n",
            "Requirement already satisfied: triton==2.1.0 in /usr/local/lib/python3.10/dist-packages (from torch) (2.1.0)\n",
            "Requirement already satisfied: MarkupSafe>=2.0 in /usr/local/lib/python3.10/dist-packages (from jinja2->torch) (2.1.3)\n",
            "Requirement already satisfied: mpmath>=0.19 in /usr/local/lib/python3.10/dist-packages (from sympy->torch) (1.3.0)\n",
            "Collecting extcolors\n",
            "  Downloading extcolors-1.0.0-py3-none-any.whl (9.8 kB)\n",
            "Requirement already satisfied: Pillow>=8.0.0 in /usr/local/lib/python3.10/dist-packages (from extcolors) (9.4.0)\n",
            "Collecting convcolors>=1.0.0 (from extcolors)\n",
            "  Downloading convcolors-2.2.0-py3-none-any.whl (3.8 kB)\n",
            "Installing collected packages: convcolors, extcolors\n",
            "Successfully installed convcolors-2.2.0 extcolors-1.0.0\n",
            "Requirement already satisfied: gdown in /usr/local/lib/python3.10/dist-packages (4.6.6)\n",
            "Requirement already satisfied: filelock in /usr/local/lib/python3.10/dist-packages (from gdown) (3.13.1)\n",
            "Requirement already satisfied: requests[socks] in /usr/local/lib/python3.10/dist-packages (from gdown) (2.31.0)\n",
            "Requirement already satisfied: six in /usr/local/lib/python3.10/dist-packages (from gdown) (1.16.0)\n",
            "Requirement already satisfied: tqdm in /usr/local/lib/python3.10/dist-packages (from gdown) (4.66.1)\n",
            "Requirement already satisfied: beautifulsoup4 in /usr/local/lib/python3.10/dist-packages (from gdown) (4.11.2)\n",
            "Requirement already satisfied: soupsieve>1.2 in /usr/local/lib/python3.10/dist-packages (from beautifulsoup4->gdown) (2.5)\n",
            "Requirement already satisfied: charset-normalizer<4,>=2 in /usr/local/lib/python3.10/dist-packages (from requests[socks]->gdown) (3.3.2)\n",
            "Requirement already satisfied: idna<4,>=2.5 in /usr/local/lib/python3.10/dist-packages (from requests[socks]->gdown) (3.6)\n",
            "Requirement already satisfied: urllib3<3,>=1.21.1 in /usr/local/lib/python3.10/dist-packages (from requests[socks]->gdown) (2.0.7)\n",
            "Requirement already satisfied: certifi>=2017.4.17 in /usr/local/lib/python3.10/dist-packages (from requests[socks]->gdown) (2023.11.17)\n",
            "Requirement already satisfied: PySocks!=1.5.7,>=1.5.6 in /usr/local/lib/python3.10/dist-packages (from requests[socks]->gdown) (1.7.1)\n"
          ]
        }
      ],
      "source": [
        "!pip install transformers\n",
        "!pip install torch\n",
        "!pip install extcolors\n",
        "!pip install gdown"
      ]
    },
    {
      "cell_type": "code",
      "execution_count": null,
      "metadata": {
        "id": "GPdCs9yZJ9EX"
      },
      "outputs": [],
      "source": [
        "from transformers import SegformerImageProcessor, AutoModelForSemanticSegmentation\n",
        "from PIL import Image\n",
        "import torch.nn as nn\n",
        "import os\n",
        "import extcolors\n",
        "import numpy as np\n",
        "import cv2\n",
        "import torch"
      ]
    },
    {
      "cell_type": "code",
      "execution_count": null,
      "metadata": {
        "colab": {
          "base_uri": "https://localhost:8080/"
        },
        "id": "P_ubCXEWJzEM",
        "outputId": "d1c1c1a4-42c1-4b93-bfbd-308c847ff971"
      },
      "outputs": [
        {
          "name": "stdout",
          "output_type": "stream",
          "text": [
            "Downloading...\n",
            "From: https://drive.google.com/uc?id=143EoZGYSm4Z1N7MRhzI9KYEwsmr8SqzG\n",
            "To: /content/women_compressed.zip\n",
            " 28% 160M/563M [00:04<00:10, 40.2MB/s]Traceback (most recent call last):\n",
            "  File \"/usr/local/bin/gdown\", line 8, in <module>\n",
            "    sys.exit(main())\n",
            "  File \"/usr/local/lib/python3.10/dist-packages/gdown/cli.py\", line 151, in main\n",
            "  File \"/usr/local/lib/python3.10/dist-packages/gdown/download.py\", line 274, in download\n",
            "    for chunk in res.iter_content(chunk_size=CHUNK_SIZE):\n",
            "  File \"/usr/local/lib/python3.10/dist-packages/requests/models.py\", line 816, in generate\n",
            "    yield from self.raw.stream(chunk_size, decode_content=True)\n",
            "  File \"/usr/local/lib/python3.10/dist-packages/urllib3/response.py\", line 936, in stream\n",
            "    data = self.read(amt=amt, decode_content=decode_content)\n",
            "  File \"/usr/local/lib/python3.10/dist-packages/urllib3/response.py\", line 843, in read\n",
            "    def read(\n",
            "KeyboardInterrupt\n",
            " 30% 167M/563M [00:04<00:10, 38.0MB/s]\n",
            "^C\n",
            "Downloading...\n",
            "From: https://drive.google.com/uc?id=1gVY3pbeZ2TIGUnkDDJ0sxGk4ZIUNjZnD\n",
            "To: /content/men_compressed.zip\n",
            "100% 71.5M/71.5M [00:02<00:00, 33.4MB/s]\n",
            "Downloading...\n",
            "From: https://drive.google.com/uc?id=1Yjty0Bo8e65GkamLZIbwWdzGb-wMiX-y\n",
            "To: /content/style_du_monde_2020_2023.zip\n",
            "100% 553M/553M [00:10<00:00, 50.6MB/s]\n",
            "Downloading...\n",
            "From: https://drive.google.com/uc?id=1q7NLoZYRbO4Mb0-HorYVdLdfaOh1RY6c\n",
            "To: /content/style_du_monde_2008_2019.zip\n",
            "100% 266M/266M [00:04<00:00, 57.5MB/s]\n",
            "unzip:  cannot find or open women_compressed.zip, women_compressed.zip.zip or women_compressed.zip.ZIP.\n"
          ]
        }
      ],
      "source": [
        "# Datasets\n",
        "!gdown https://drive.google.com/uc?id=143EoZGYSm4Z1N7MRhzI9KYEwsmr8SqzG\n",
        "!gdown https://drive.google.com/uc?id=1gVY3pbeZ2TIGUnkDDJ0sxGk4ZIUNjZnD\n",
        "!gdown https://drive.google.com/uc?id=1Yjty0Bo8e65GkamLZIbwWdzGb-wMiX-y\n",
        "!gdown https://drive.google.com/uc?id=1q7NLoZYRbO4Mb0-HorYVdLdfaOh1RY6c\n",
        "!unzip -q -o women_compressed.zip\n",
        "!unzip -q -o men_compressed.zip\n",
        "!unzip -q -o style_du_monde_2020_2023.zip\n",
        "!unzip -q -o style_du_monde_2008_2019.zip"
      ]
    },
    {
      "cell_type": "code",
      "execution_count": null,
      "metadata": {
        "id": "rclXyEcqHLmK"
      },
      "outputs": [],
      "source": [
        "# extract the most dominant color (in rgb) from a mask\n",
        "def getColorDominantFromMask(image, mask):\n",
        "  # apply mask\n",
        "  binary_mask = (mask * 255).astype(np.uint8)\n",
        "\n",
        "  # convert PIL image to openCV image\n",
        "  imageCV = cv2.cvtColor(np.array(image), cv2.COLOR_RGB2BGRA)\n",
        "\n",
        "  # add the forth dimension (opacity)\n",
        "  four_channel_mask = cv2.merge([binary_mask] * 4)\n",
        "\n",
        "  # Apply mask\n",
        "  result = cv2.bitwise_and(imageCV, four_channel_mask)\n",
        "\n",
        "  # Convert to PIL image\n",
        "  pil_image = Image.fromarray(cv2.cvtColor(result, cv2.COLOR_BGR2RGBA))\n",
        "\n",
        "  # get dominant color\n",
        "  colors, pixel_count = extcolors.extract_from_image(pil_image)\n",
        "  print(colors[0][0])\n",
        "  return colors[0][0]\n",
        "\n",
        "# get the color of the top, the bottom and the skin from an image\n",
        "def get_clothes_and_skin_colors(image):\n",
        "  # Load model\n",
        "  inputs = processor(images=image, return_tensors=\"pt\").to(device)\n",
        "  outputs = model(**inputs)\n",
        "  logits = outputs.logits.cpu()\n",
        "  \n",
        "  upsampled_logits = nn.functional.interpolate(\n",
        "      logits,\n",
        "      size=image.size[::-1],\n",
        "      mode=\"bilinear\",\n",
        "      align_corners=False,\n",
        "  )\n",
        "\n",
        "  # Get the segmentation prediction\n",
        "  pred_seg = upsampled_logits.argmax(dim=1)[0]\n",
        "\n",
        "  rows, cols = pred_seg.shape\n",
        "  upper_mask = np.full((rows, cols), False, dtype=bool)\n",
        "  lower_mask = np.full((rows,cols), False, dtype=bool)\n",
        "  skin_mask = np.full((rows,cols), False, dtype=bool)\n",
        "  dress_mask = np.full((rows,cols), False, dtype=bool)\n",
        "  has_upper = False\n",
        "  has_lower = False\n",
        "  has_skin = False\n",
        "  has_dress =False\n",
        "  # Iterate through the 2D tensor array with indices\n",
        "\n",
        "  # Convert pytorch tensor to numpy array to optimize\n",
        "  segmentation = pred_seg.detach().cpu().numpy()\n",
        "\n",
        "  for i in range(rows):\n",
        "      for j in range(cols):\n",
        "        v = segmentation[i, j]\n",
        "        if v == 4: # upper clothes\n",
        "          upper_mask[i, j] = True\n",
        "          has_upper = True\n",
        "        elif v == 6 or v == 5: # pants or skirt\n",
        "          lower_mask[i, j] = True\n",
        "          has_lower = True\n",
        "        elif v in [11, 12, 13, 14, 15]: #body parts\n",
        "          skin_mask[i, j]=  True\n",
        "          has_skin = True\n",
        "        elif v == 7: # dress:\n",
        "          dress_mask[i, j] =  True\n",
        "          has_dress = True\n",
        "\n",
        "\n",
        "  if not has_skin:\n",
        "    return None\n",
        "  if has_dress:\n",
        "    dress_color = getColorDominantFromMask(image, dress_mask)\n",
        "    return (dress_color, dress_color,getColorDominantFromMask(image, skin_mask))\n",
        "  elif not has_upper or not has_lower:\n",
        "    return None\n",
        "  else:\n",
        "    return (getColorDominantFromMask(image, upper_mask),getColorDominantFromMask(image, lower_mask), getColorDominantFromMask(image, skin_mask))\n",
        "\n",
        "# get the useful part (id) from the name of default deepfashion file's name.\n",
        "def get_name_deepfashion(name):\n",
        "  return image.filename.split(\"-\",2)[2].split('.')[0].split('_',1)[1]"
      ]
    },
    {
      "cell_type": "code",
      "execution_count": null,
      "metadata": {
        "colab": {
          "base_uri": "https://localhost:8080/"
        },
        "id": "UPAKBTsZLNOY",
        "outputId": "b4a91d00-06ec-4780-e051-edf61deba8d4"
      },
      "outputs": [
        {
          "name": "stdout",
          "output_type": "stream",
          "text": [
            "Mounted at /content/drive\n"
          ]
        }
      ],
      "source": [
        "from google.colab import drive\n",
        "drive.mount('/content/drive')"
      ]
    },
    {
      "cell_type": "code",
      "execution_count": null,
      "metadata": {
        "id": "oyxath0WOp7d"
      },
      "outputs": [],
      "source": [
        "processor = SegformerImageProcessor.from_pretrained(\"mattmdjaga/segformer_b2_clothes\")\n",
        "model = AutoModelForSemanticSegmentation.from_pretrained(\"mattmdjaga/segformer_b2_clothes\")\n",
        "device = \"cuda:0\" if torch.cuda.is_available() else \"cpu\"\n",
        "model.to(device)\n",
        "\n",
        "file_result = open('/content/drive/MyDrive/men.csv', 'w')\n",
        "unzip_dir = \"men_compressed\"\n",
        "i = 0\n",
        "for filename in os.listdir(unzip_dir):\n",
        "    f = os.path.join(unzip_dir, filename)\n",
        "    image = Image.open(f)\n",
        "    print(\"Processing\", i, f)\n",
        "    color = get_clothes_and_skin_colors(image)\n",
        "    if color != None:\n",
        "      file_result.write(get_name_deepfashion(image.filename) + ';')\n",
        "      for k in color:\n",
        "          file_result.write(str(k[0]) + ',' + str(k[1]) + ',' + str(k[2]))\n",
        "          if k != color[-1]:\n",
        "            file_result.write(';')\n",
        "      file_result.write(\"\\n\")\n",
        "    i = i + 1\n",
        "\n",
        "file_result.close()\n"
      ]
    }
  ],
  "metadata": {
    "accelerator": "GPU",
    "colab": {
      "gpuType": "T4",
      "include_colab_link": true,
      "provenance": []
    },
    "kernelspec": {
      "display_name": "Python 3",
      "name": "python3"
    },
    "language_info": {
      "name": "python"
    }
  },
  "nbformat": 4,
  "nbformat_minor": 0
}
