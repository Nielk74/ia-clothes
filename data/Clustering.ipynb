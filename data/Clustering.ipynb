{
  "cells": [
    {
      "cell_type": "markdown",
      "metadata": {
        "id": "view-in-github",
        "colab_type": "text"
      },
      "source": [
        "<a href=\"https://colab.research.google.com/github/Nielk74/ia-clothes/blob/master/data/Clustering.ipynb\" target=\"_parent\"><img src=\"https://colab.research.google.com/assets/colab-badge.svg\" alt=\"Open In Colab\"/></a>"
      ]
    },
    {
      "cell_type": "markdown",
      "metadata": {
        "id": "W2Nra49pUx_j"
      },
      "source": [
        "# Présentation\n",
        "\n",
        "Ce notebook présente une méthode de clustering de couleurs extraites à partir de ce [notebook](https://colab.research.google.com/drive/19Hn6Y-09XlVNDg7Hp798v5ZL41UBsx8S?usp=sharing)."
      ]
    },
    {
      "cell_type": "markdown",
      "metadata": {
        "id": "SGMaYMhqVGdp"
      },
      "source": [
        "# Setup"
      ]
    },
    {
      "cell_type": "code",
      "execution_count": null,
      "metadata": {
        "id": "6kSxyuxDTscR"
      },
      "outputs": [],
      "source": [
        "!wget -q https://raw.githubusercontent.com/Nielk74/ia-clothes/master/data/datasets/men.csv -O men.csv\n",
        "!wget -q https://raw.githubusercontent.com/Nielk74/ia-clothes/master/data/datasets/women.csv -O women.csv"
      ]
    },
    {
      "cell_type": "code",
      "execution_count": null,
      "metadata": {
        "id": "JDZ3RhDBR9sS",
        "colab": {
          "base_uri": "https://localhost:8080/"
        },
        "outputId": "0f3851c3-ff8b-445a-b15b-5c03099234db"
      },
      "outputs": [
        {
          "output_type": "stream",
          "name": "stdout",
          "text": [
            "Requirement already satisfied: numpy in /usr/local/lib/python3.10/dist-packages (1.23.5)\n",
            "Requirement already satisfied: scikit-learn in /usr/local/lib/python3.10/dist-packages (1.2.2)\n",
            "Requirement already satisfied: numpy>=1.17.3 in /usr/local/lib/python3.10/dist-packages (from scikit-learn) (1.23.5)\n",
            "Requirement already satisfied: scipy>=1.3.2 in /usr/local/lib/python3.10/dist-packages (from scikit-learn) (1.11.4)\n",
            "Requirement already satisfied: joblib>=1.1.1 in /usr/local/lib/python3.10/dist-packages (from scikit-learn) (1.3.2)\n",
            "Requirement already satisfied: threadpoolctl>=2.0.0 in /usr/local/lib/python3.10/dist-packages (from scikit-learn) (3.2.0)\n",
            "Requirement already satisfied: matplotlib in /usr/local/lib/python3.10/dist-packages (3.7.1)\n",
            "Requirement already satisfied: contourpy>=1.0.1 in /usr/local/lib/python3.10/dist-packages (from matplotlib) (1.2.0)\n",
            "Requirement already satisfied: cycler>=0.10 in /usr/local/lib/python3.10/dist-packages (from matplotlib) (0.12.1)\n",
            "Requirement already satisfied: fonttools>=4.22.0 in /usr/local/lib/python3.10/dist-packages (from matplotlib) (4.47.2)\n",
            "Requirement already satisfied: kiwisolver>=1.0.1 in /usr/local/lib/python3.10/dist-packages (from matplotlib) (1.4.5)\n",
            "Requirement already satisfied: numpy>=1.20 in /usr/local/lib/python3.10/dist-packages (from matplotlib) (1.23.5)\n",
            "Requirement already satisfied: packaging>=20.0 in /usr/local/lib/python3.10/dist-packages (from matplotlib) (23.2)\n",
            "Requirement already satisfied: pillow>=6.2.0 in /usr/local/lib/python3.10/dist-packages (from matplotlib) (9.4.0)\n",
            "Requirement already satisfied: pyparsing>=2.3.1 in /usr/local/lib/python3.10/dist-packages (from matplotlib) (3.1.1)\n",
            "Requirement already satisfied: python-dateutil>=2.7 in /usr/local/lib/python3.10/dist-packages (from matplotlib) (2.8.2)\n",
            "Requirement already satisfied: six>=1.5 in /usr/local/lib/python3.10/dist-packages (from python-dateutil>=2.7->matplotlib) (1.16.0)\n",
            "Collecting colour-science\n",
            "  Downloading colour_science-0.4.4-py3-none-any.whl (2.3 MB)\n",
            "\u001b[2K     \u001b[90m━━━━━━━━━━━━━━━━━━━━━━━━━━━━━━━━━━━━━━━━\u001b[0m \u001b[32m2.3/2.3 MB\u001b[0m \u001b[31m14.9 MB/s\u001b[0m eta \u001b[36m0:00:00\u001b[0m\n",
            "\u001b[?25hRequirement already satisfied: imageio<3,>=2 in /usr/local/lib/python3.10/dist-packages (from colour-science) (2.31.6)\n",
            "Requirement already satisfied: numpy<2,>=1.22 in /usr/local/lib/python3.10/dist-packages (from colour-science) (1.23.5)\n",
            "Requirement already satisfied: scipy<2,>=1.8 in /usr/local/lib/python3.10/dist-packages (from colour-science) (1.11.4)\n",
            "Requirement already satisfied: typing-extensions<5,>=4 in /usr/local/lib/python3.10/dist-packages (from colour-science) (4.5.0)\n",
            "Requirement already satisfied: pillow<10.1.0,>=8.3.2 in /usr/local/lib/python3.10/dist-packages (from imageio<3,>=2->colour-science) (9.4.0)\n",
            "Installing collected packages: colour-science\n",
            "Successfully installed colour-science-0.4.4\n"
          ]
        }
      ],
      "source": [
        "!pip install numpy\n",
        "!pip install scikit-learn\n",
        "!pip install matplotlib\n",
        "!pip install colour-science\n"
      ]
    },
    {
      "cell_type": "markdown",
      "metadata": {
        "id": "VB01P8mIVkOw"
      },
      "source": [
        "# Clustering"
      ]
    },
    {
      "cell_type": "markdown",
      "metadata": {
        "id": "RFRGYyJyWgzz"
      },
      "source": [
        "Import de dépendances"
      ]
    },
    {
      "cell_type": "code",
      "execution_count": null,
      "metadata": {
        "id": "18I4mIveRPYe",
        "colab": {
          "base_uri": "https://localhost:8080/"
        },
        "outputId": "0f540166-4616-4f89-a305-9553dd2c2365"
      },
      "outputs": [
        {
          "output_type": "stream",
          "name": "stderr",
          "text": [
            "/usr/local/lib/python3.10/dist-packages/colour/utilities/verbose.py:265: ColourWarning: \"vaab/colour\" was detected in \"sys.path\", please define a \"COLOUR_SCIENCE__COLOUR__IMPORT_VAAB_COLOUR=True\" environment variable to import its objects into \"colour\" namespace!\n",
            "  warn(*args, **kwargs)  # noqa: B028\n"
          ]
        }
      ],
      "source": [
        "import numpy as np\n",
        "from sklearn.cluster import KMeans\n",
        "import matplotlib.pyplot as plt\n",
        "from mpl_toolkits.mplot3d import Axes3D\n",
        "import colour\n",
        "from colour.models import RGB_COLOURSPACE_sRGB\n",
        "import csv"
      ]
    },
    {
      "cell_type": "markdown",
      "metadata": {
        "id": "I-UT_IlQWkMJ"
      },
      "source": [
        "Récupération de paramètres"
      ]
    },
    {
      "cell_type": "code",
      "execution_count": null,
      "metadata": {
        "id": "0LqDmi8FWq2m"
      },
      "outputs": [],
      "source": [
        "clothes_cluster_nb = 10 # int(input(\"Saisissez le nombre de cluster souhaité pour les couleurs de vêtements : \"))\n",
        "nb_cluster_skin = 5 # int(input(\"Saisissez le nombre de cluster souhaité pour les couleurs de peau : \"))"
      ]
    },
    {
      "cell_type": "code",
      "execution_count": null,
      "metadata": {
        "id": "QUqOm_iZRLJe"
      },
      "outputs": [],
      "source": [
        "def colored_background(r, g, b, text):\n",
        "    r = int(r)\n",
        "    g = int(g)\n",
        "    b = int(b)\n",
        "    return f'\\033[48;2;{r};{g};{b}m{text}\\033[0m'\n",
        "\n",
        "\n",
        "def normalize_to_srgb(rgb):\n",
        "    return np.dot(1/255,rgb)\n",
        "\n",
        "def get_data_from_input(path):\n",
        "    dict_skin = {}\n",
        "\n",
        "    with open(path, 'r' ) as infile:\n",
        "        reader = csv.reader(infile, delimiter=';')\n",
        "        for row in reader:\n",
        "            if 'None' in row[1] or 'None' in row[2] or 'None' in row[3]:\n",
        "                continue\n",
        "\n",
        "            skin_column = row[3].strip()\n",
        "            lower_column = row[2].strip()\n",
        "            upper_column = row[1].strip()\n",
        "\n",
        "            rgb_skin = np.array(skin_column.split(',')).astype(np.uint8)\n",
        "            rgb_upper = np.array(upper_column.split(',')).astype(np.uint8)\n",
        "            rgb_lower = np.array(lower_column.split(',')).astype(np.uint8)\n",
        "            dict_skin[str(rgb_skin)] = {'upper':rgb_upper,'lower':rgb_lower, 'skin': rgb_skin, 'path':row[0]}\n",
        "    return dict_skin\n",
        "\n",
        "color_space = (RGB_COLOURSPACE_sRGB,)\n",
        "\n",
        "def clustering(num_clusters, data, is_clothes=False):\n",
        "    kmeans = KMeans(n_clusters=num_clusters, n_init=num_clusters)\n",
        "\n",
        "    # lab_data = np.apply_along_axis(normalize_to_srgb, 1, data)\n",
        "    # lab_data = np.apply_along_axis(colour.RGB_to_XYZ, 1, lab_data, *color_space)\n",
        "    # lab_data = np.apply_along_axis(colour.XYZ_to_Lab, 1, lab_data)\n",
        "    if is_clothes:\n",
        "      lab_data = np.apply_along_axis(rgb_to_lab_clothes, 1, data)\n",
        "    else:\n",
        "      lab_data = np.apply_along_axis(rgb_to_lab, 1, data)\n",
        "    kmeans.fit(lab_data)\n",
        "\n",
        "    cluster_labels = kmeans.labels_\n",
        "    cluster_centers = kmeans.cluster_centers_\n",
        "\n",
        "    return cluster_labels, cluster_centers\n",
        "\n",
        "def lab_to_rgb(lab):\n",
        "    lab = np.array(lab)\n",
        "    lab = np.reshape(lab, (1,3))\n",
        "    lab = np.apply_along_axis(colour.Lab_to_XYZ, 1, lab)\n",
        "    lab = np.apply_along_axis(colour.XYZ_to_RGB, 1, lab, *color_space)\n",
        "    lab = np.apply_along_axis(np.dot, 1, lab, 255)\n",
        "    return lab[0]\n",
        "\n",
        "def rgb_to_lab(rgb):\n",
        "    rgb = normalize_to_srgb(rgb)\n",
        "    rgb = colour.RGB_to_XYZ(rgb, *color_space)\n",
        "    rgb = colour.XYZ_to_Lab(rgb)\n",
        "    return rgb\n",
        "def rgb_to_lab_clothes(rgb):\n",
        "    rgb = normalize_to_srgb(rgb)\n",
        "    rgb = colour.RGB_to_XYZ(rgb, *color_space)\n",
        "    rgb = colour.XYZ_to_Lab(rgb)\n",
        "    if rgb[0] < 45 or rgb[0] > 90:\n",
        "      rgb[1] = 0\n",
        "      rgb[2] = 0\n",
        "    if rgb[0] < 45:\n",
        "      rgb[0] = 40\n",
        "    if rgb[0] > 90:\n",
        "      rgb[0] = 95\n",
        "    return rgb\n",
        "dict_skin = get_data_from_input('women.csv')\n",
        "\n",
        "skin_data = []\n",
        "upper_data =[]\n",
        "lower_data = []\n",
        "\n",
        "nb_cluster_upper = clothes_cluster_nb\n",
        "nb_cluster_lower = clothes_cluster_nb\n",
        "\n",
        "for data in dict_skin.items():\n",
        "    skin_data.append(data[1]['skin'])\n",
        "    upper_data.append(data[1]['upper'])\n",
        "    lower_data.append(data[1]['lower'])\n",
        "\n",
        "skin_data = np.array(skin_data)\n",
        "upper_data = np.array(upper_data)\n",
        "lower_data = np.array(lower_data)\n",
        "\n",
        "cluster_labels_skin, cluster_centers_skin = clustering(nb_cluster_skin, skin_data)\n",
        "cluster_labels_upper, cluster_centers_upper = clustering(nb_cluster_upper, upper_data)\n",
        "cluster_labels_lower, cluster_centers_lower = clustering(nb_cluster_lower, lower_data)\n",
        "\n"
      ]
    },
    {
      "cell_type": "code",
      "execution_count": null,
      "metadata": {
        "colab": {
          "base_uri": "https://localhost:8080/"
        },
        "id": "3hDNMEp-ezQ7",
        "outputId": "a87caa58-9a53-4c8c-d103-23aae35593b2"
      },
      "outputs": [
        {
          "output_type": "stream",
          "name": "stdout",
          "text": [
            "Clusters de peau:\n",
            "\u001b[48;2;232;186;149mskin : 0\u001b[0m [ 89.80776098   4.65824193  13.06126487]\n",
            "\u001b[48;2;155;100;73mskin : 1\u001b[0m [ 71.68231378  10.27650941  16.37697519]\n",
            "\u001b[48;2;237;209;188mskin : 2\u001b[0m [ 93.3963141    2.77280508   6.82335534]\n",
            "\u001b[48;2;201;146;115mskin : 3\u001b[0m [ 82.47864533   7.38477851  14.19883889]\n",
            "\u001b[48;2;217;175;152mskin : 4\u001b[0m [ 87.74699911   5.39122618   9.01683408]\n",
            "\n",
            "Clusters de haut:\n",
            "\u001b[48;2;130;128;130mupper : 0\u001b[0m [ 76.47931247   0.72956529  -0.317362  ]\n",
            "\u001b[48;2;47;44;48mupper : 1\u001b[0m [ 49.45332917   2.2754041   -1.92099907]\n",
            "\u001b[48;2;208;20;59mupper : 2\u001b[0m [ 56.92330779  62.78303993   3.6543473 ]\n",
            "\u001b[48;2;216;168;70mupper : 3\u001b[0m [ 85.71628165  -0.78950543  37.10731719]\n",
            "\u001b[48;2;230;226;225mupper : 4\u001b[0m [ 95.69057207   0.4482556    0.62575879]\n",
            "\u001b[48;2;222;110;103mupper : 5\u001b[0m [ 77.60234567  22.74718963  11.88651056]\n",
            "\u001b[48;2;12;132;160mupper : 6\u001b[0m [ 71.29745284 -28.90238163 -18.87325361]\n",
            "\u001b[48;2;43;57;104mupper : 7\u001b[0m [ 54.66864324   4.3924783  -23.71359428]\n",
            "\u001b[48;2;27;24;24mupper : 8\u001b[0m [ 37.65157281   1.68252116   0.86894185]\n",
            "\u001b[48;2;122;34;43mupper : 9\u001b[0m [ 53.15559209  33.46408908   8.12652291]\n",
            "\n",
            "Clusters de bas:\n",
            "\u001b[48;2;33;31;31mlower : 0\u001b[0m [ 41.86260463   1.51252218   0.11774671]\n",
            "\u001b[48;2;160;175;189mlower : 1\u001b[0m [ 86.05821321  -1.49728005  -4.45351039]\n",
            "\u001b[48;2;229;230;231mlower : 2\u001b[0m [  9.61506536e+01  -5.36022095e-02  -1.62192642e-01]\n",
            "\u001b[48;2;39;61;96mlower : 3\u001b[0m [ 55.34430883  -1.4568361  -18.97061755]\n",
            "\u001b[48;2;126;27;35mlower : 4\u001b[0m [ 51.05031955  39.20228593  11.22696943]\n",
            "\u001b[48;2;157;113;82mlower : 5\u001b[0m [ 74.38425476   6.35523374  16.09921689]\n",
            "\u001b[48;2;23;30;43mlower : 6\u001b[0m [ 40.96681163   0.11056636 -11.51267206]\n",
            "\u001b[48;2;56;52;56mlower : 7\u001b[0m [ 52.96524103   2.41221069  -1.53965712]\n",
            "\u001b[48;2;15;14;13mlower : 8\u001b[0m [ 29.01878706   0.36253486   2.71832737]\n",
            "\u001b[48;2;83;114;145mlower : 9\u001b[0m [ 71.60155683  -3.52896224 -13.24918716]\n"
          ]
        }
      ],
      "source": [
        "print(\"Clusters de peau:\")\n",
        "for i in range(nb_cluster_skin):\n",
        "    # plot as a hsv color\n",
        "    lab = cluster_centers_skin[i]\n",
        "    rgb = lab_to_rgb([lab[0], lab[1], lab[2]])\n",
        "    print(colored_background(rgb[0],rgb[1],rgb[2], 'skin : '+str(i)),lab)\n",
        "print(\"\\nClusters de haut:\")\n",
        "for i in range(clothes_cluster_nb):\n",
        "    # plot as a hsv color\n",
        "    lab = cluster_centers_upper[i]\n",
        "    rgb = lab_to_rgb([lab[0], lab[1], lab[2]])\n",
        "    print(colored_background(rgb[0],rgb[1],rgb[2], 'upper : '+str(i)), lab)\n",
        "\n",
        "print(\"\\nClusters de bas:\")\n",
        "for i in range(clothes_cluster_nb):\n",
        "    # plot as a hsv color\n",
        "    lab = cluster_centers_lower[i]\n",
        "    rgb = lab_to_rgb([lab[0], lab[1], lab[2]])\n",
        "    print(colored_background(rgb[0],rgb[1],rgb[2], 'lower : '+str(i)), lab)\n"
      ]
    },
    {
      "cell_type": "markdown",
      "metadata": {
        "id": "m2KAuCE9SFXa"
      },
      "source": [
        "# Matrice d'occurences par couleur"
      ]
    },
    {
      "cell_type": "code",
      "execution_count": null,
      "metadata": {
        "id": "EbJAIqc_SFAQ"
      },
      "outputs": [],
      "source": [
        "\n",
        "occurences = {}\n",
        "\n",
        "for data in dict_skin.items():\n",
        "    skin = data[1]['skin']\n",
        "    upper = data[1]['upper']\n",
        "    lower = data[1]['lower']\n",
        "    path = data[1]['path']\n",
        "\n",
        "    skin_cluster = cluster_labels_skin[np.where((skin_data == skin).all(axis=1))][0]\n",
        "    upper_cluster = cluster_labels_upper[np.where((upper_data == upper).all(axis=1))][0]\n",
        "    lower_cluster = cluster_labels_lower[np.where((lower_data == lower).all(axis=1))][0]\n",
        "\n",
        "    rgb_upper = lab_to_rgb(cluster_centers_upper[upper_cluster])\n",
        "    rgb_lower = lab_to_rgb(cluster_centers_lower[lower_cluster])\n",
        "    diff_upper = abs(rgb_upper[0] - rgb_upper[1]) + abs(rgb_upper[1] - rgb_upper[2]) + abs(rgb_upper[0] - rgb_upper[2])\n",
        "    diff_lower = abs(rgb_lower[0] - rgb_lower[1]) + abs(rgb_lower[1] - rgb_lower[2]) + abs(rgb_lower[0] - rgb_lower[2])\n",
        "    key = str(skin_cluster) + ',' + str(upper_cluster) + ',' + str(lower_cluster)\n",
        "\n",
        "    if key in occurences:\n",
        "        occurences[key]['occurences'] += 1\n",
        "    else:\n",
        "        occurences[key] = {'skin_cluster': skin_cluster, 'upper_cluster': upper_cluster, 'lower_cluster': lower_cluster, 'occurences': 1, 'path': path}\n"
      ]
    },
    {
      "cell_type": "markdown",
      "metadata": {
        "id": "ohGbYPOO_lT4"
      },
      "source": [
        "# Extraction des objets de clusters sous format json"
      ]
    },
    {
      "cell_type": "code",
      "execution_count": null,
      "metadata": {
        "id": "O5n3r2aI_kpr"
      },
      "outputs": [],
      "source": [
        "import json\n",
        "import numpy\n",
        "def convert(o):\n",
        "    if isinstance(o, numpy.int32): return int(o)\n",
        "    elif isinstance(o, numpy.ndarray): return o.tolist()\n",
        "    raise TypeError\n",
        "\n",
        "\n",
        "with open('woccurences.json', 'w') as fp:\n",
        "  json.dump(occurences, fp, default=convert)\n",
        "\n",
        "clusters_json = {\"cluster_centers_skin\":cluster_centers_skin,\n",
        "                 \"cluster_centers_upper\":cluster_centers_upper,\n",
        "                 \"cluster_centers_lower\":cluster_centers_lower}\n",
        "with open('wclusters.json', 'w') as fp:\n",
        "  json.dump(clusters_json, fp, default=convert)\n",
        "\n",
        "#cluster_centers_skin\n",
        "#cluster_centers_upper\n",
        "#cluster_centers_lower"
      ]
    },
    {
      "cell_type": "markdown",
      "metadata": {
        "id": "b-RpfUacRw1T"
      },
      "source": [
        "# Récupération de la teinte de couleur de peau d'une image"
      ]
    },
    {
      "cell_type": "code",
      "execution_count": null,
      "metadata": {
        "colab": {
          "base_uri": "https://localhost:8080/"
        },
        "id": "cqGR_7DTzacO",
        "outputId": "e25743c3-8f6e-4634-bffd-198e081c33dd"
      },
      "outputs": [
        {
          "output_type": "stream",
          "name": "stdout",
          "text": [
            "Requirement already satisfied: transformers in /usr/local/lib/python3.10/dist-packages (4.35.2)\n",
            "Requirement already satisfied: filelock in /usr/local/lib/python3.10/dist-packages (from transformers) (3.13.1)\n",
            "Requirement already satisfied: huggingface-hub<1.0,>=0.16.4 in /usr/local/lib/python3.10/dist-packages (from transformers) (0.20.2)\n",
            "Requirement already satisfied: numpy>=1.17 in /usr/local/lib/python3.10/dist-packages (from transformers) (1.23.5)\n",
            "Requirement already satisfied: packaging>=20.0 in /usr/local/lib/python3.10/dist-packages (from transformers) (23.2)\n",
            "Requirement already satisfied: pyyaml>=5.1 in /usr/local/lib/python3.10/dist-packages (from transformers) (6.0.1)\n",
            "Requirement already satisfied: regex!=2019.12.17 in /usr/local/lib/python3.10/dist-packages (from transformers) (2023.6.3)\n",
            "Requirement already satisfied: requests in /usr/local/lib/python3.10/dist-packages (from transformers) (2.31.0)\n",
            "Requirement already satisfied: tokenizers<0.19,>=0.14 in /usr/local/lib/python3.10/dist-packages (from transformers) (0.15.0)\n",
            "Requirement already satisfied: safetensors>=0.3.1 in /usr/local/lib/python3.10/dist-packages (from transformers) (0.4.1)\n",
            "Requirement already satisfied: tqdm>=4.27 in /usr/local/lib/python3.10/dist-packages (from transformers) (4.66.1)\n",
            "Requirement already satisfied: fsspec>=2023.5.0 in /usr/local/lib/python3.10/dist-packages (from huggingface-hub<1.0,>=0.16.4->transformers) (2023.6.0)\n",
            "Requirement already satisfied: typing-extensions>=3.7.4.3 in /usr/local/lib/python3.10/dist-packages (from huggingface-hub<1.0,>=0.16.4->transformers) (4.5.0)\n",
            "Requirement already satisfied: charset-normalizer<4,>=2 in /usr/local/lib/python3.10/dist-packages (from requests->transformers) (3.3.2)\n",
            "Requirement already satisfied: idna<4,>=2.5 in /usr/local/lib/python3.10/dist-packages (from requests->transformers) (3.6)\n",
            "Requirement already satisfied: urllib3<3,>=1.21.1 in /usr/local/lib/python3.10/dist-packages (from requests->transformers) (2.0.7)\n",
            "Requirement already satisfied: certifi>=2017.4.17 in /usr/local/lib/python3.10/dist-packages (from requests->transformers) (2023.11.17)\n",
            "Requirement already satisfied: torch in /usr/local/lib/python3.10/dist-packages (2.1.0+cu121)\n",
            "Requirement already satisfied: filelock in /usr/local/lib/python3.10/dist-packages (from torch) (3.13.1)\n",
            "Requirement already satisfied: typing-extensions in /usr/local/lib/python3.10/dist-packages (from torch) (4.5.0)\n",
            "Requirement already satisfied: sympy in /usr/local/lib/python3.10/dist-packages (from torch) (1.12)\n",
            "Requirement already satisfied: networkx in /usr/local/lib/python3.10/dist-packages (from torch) (3.2.1)\n",
            "Requirement already satisfied: jinja2 in /usr/local/lib/python3.10/dist-packages (from torch) (3.1.2)\n",
            "Requirement already satisfied: fsspec in /usr/local/lib/python3.10/dist-packages (from torch) (2023.6.0)\n",
            "Requirement already satisfied: triton==2.1.0 in /usr/local/lib/python3.10/dist-packages (from torch) (2.1.0)\n",
            "Requirement already satisfied: MarkupSafe>=2.0 in /usr/local/lib/python3.10/dist-packages (from jinja2->torch) (2.1.3)\n",
            "Requirement already satisfied: mpmath>=0.19 in /usr/local/lib/python3.10/dist-packages (from sympy->torch) (1.3.0)\n",
            "Collecting extcolors\n",
            "  Downloading extcolors-1.0.0-py3-none-any.whl (9.8 kB)\n",
            "Requirement already satisfied: Pillow>=8.0.0 in /usr/local/lib/python3.10/dist-packages (from extcolors) (9.4.0)\n",
            "Collecting convcolors>=1.0.0 (from extcolors)\n",
            "  Downloading convcolors-2.2.0-py3-none-any.whl (3.8 kB)\n",
            "Installing collected packages: convcolors, extcolors\n",
            "Successfully installed convcolors-2.2.0 extcolors-1.0.0\n"
          ]
        }
      ],
      "source": [
        "!pip install transformers\n",
        "!pip install torch\n",
        "!pip install extcolors"
      ]
    },
    {
      "cell_type": "code",
      "execution_count": null,
      "metadata": {
        "colab": {
          "base_uri": "https://localhost:8080/",
          "height": 298,
          "referenced_widgets": [
            "0197f32f3a6b48eb896f2043dd57580c",
            "e0e69cd94d39476e9e010174b6aa43de",
            "31165a70369a4419b116655181468b66",
            "889139138255467da162403cdcf63f2e",
            "3f635a777a0d4c65aa898ce84d408ee0",
            "e15f5bb09ffa4ac2820b4c2c3f806a3c",
            "8275383e752c46b9824c5ed02bdc59d6",
            "962bd3c1be97432894d098f57f01acb1",
            "4816dd2b49ce41d38031f977c1623b0c",
            "87473c3ce2d94ebebeec6509c216f620",
            "ec58dff0fcc14d47b7e6e9366f6deb5e",
            "b528b819b74f42e6bd6bd7413b92d9d8",
            "4818db41a1cb479b925a6ec8d4c912f3",
            "9391c3f0de824882b613892800991044",
            "7f799cd00cc24476a60061eb9b2bfb5b",
            "af403e8a13924d2cb6ad53f103724092",
            "d933d5fc90d141c0bd84483cfb9ff84f",
            "ec418c8d8186477fa59f68368c564fab",
            "f3cbd12a73b9423d8a391e21222d4008",
            "d0621406429344709d064d21ae8c5f1c",
            "56dee28dbe4d4ca382307d2401110479",
            "2ee2aeffbb744d55a98fc7cb068ccf1a",
            "c26b5b4a94554e85820cd985c93b8523",
            "18e8ee5d81a84ea582e99be8c42ed942",
            "19d2e923a39944229869e9da65d8497a",
            "d03d1d7c1d2c49f9b2a3eaa5d2eb064c",
            "5be3c9db2eae44b4aecd0d4cddda521f",
            "ff26d138aca34a2bbc333d9070123922",
            "3360de6ea7d045a7b111133e1f36881a",
            "4e66d16b33674a618cd1657af20df63f",
            "d364e62aa2f44104a1639a4057432880",
            "3bd4036951264d54bd47a50410ba21e4",
            "f1705f35790744fba70535414ae2ce78"
          ]
        },
        "id": "vIkE358OzYiW",
        "outputId": "c90e7711-7895-49ba-f2b3-d4451591655f"
      },
      "outputs": [
        {
          "output_type": "stream",
          "name": "stderr",
          "text": [
            "/usr/local/lib/python3.10/dist-packages/huggingface_hub/utils/_token.py:88: UserWarning: \n",
            "The secret `HF_TOKEN` does not exist in your Colab secrets.\n",
            "To authenticate with the Hugging Face Hub, create a token in your settings tab (https://huggingface.co/settings/tokens), set it as secret in your Google Colab and restart your session.\n",
            "You will be able to reuse this secret in all of your notebooks.\n",
            "Please note that authentication is recommended but still optional to access public models or datasets.\n",
            "  warnings.warn(\n"
          ]
        },
        {
          "output_type": "display_data",
          "data": {
            "text/plain": [
              "preprocessor_config.json:   0%|          | 0.00/271 [00:00<?, ?B/s]"
            ],
            "application/vnd.jupyter.widget-view+json": {
              "version_major": 2,
              "version_minor": 0,
              "model_id": "0197f32f3a6b48eb896f2043dd57580c"
            }
          },
          "metadata": {}
        },
        {
          "output_type": "stream",
          "name": "stderr",
          "text": [
            "/usr/local/lib/python3.10/dist-packages/transformers/models/segformer/image_processing_segformer.py:101: FutureWarning: The `reduce_labels` parameter is deprecated and will be removed in a future version. Please use `do_reduce_labels` instead.\n",
            "  warnings.warn(\n"
          ]
        },
        {
          "output_type": "display_data",
          "data": {
            "text/plain": [
              "config.json:   0%|          | 0.00/1.73k [00:00<?, ?B/s]"
            ],
            "application/vnd.jupyter.widget-view+json": {
              "version_major": 2,
              "version_minor": 0,
              "model_id": "b528b819b74f42e6bd6bd7413b92d9d8"
            }
          },
          "metadata": {}
        },
        {
          "output_type": "display_data",
          "data": {
            "text/plain": [
              "model.safetensors:   0%|          | 0.00/109M [00:00<?, ?B/s]"
            ],
            "application/vnd.jupyter.widget-view+json": {
              "version_major": 2,
              "version_minor": 0,
              "model_id": "c26b5b4a94554e85820cd985c93b8523"
            }
          },
          "metadata": {}
        },
        {
          "output_type": "stream",
          "name": "stdout",
          "text": [
            "\n"
          ]
        }
      ],
      "source": [
        "from transformers import SegformerImageProcessor, AutoModelForSemanticSegmentation\n",
        "from PIL import Image\n",
        "import requests\n",
        "import matplotlib.pyplot as plt\n",
        "import torch.nn as nn\n",
        "import os\n",
        "import extcolors\n",
        "import numpy as np\n",
        "import tensorflow as tf\n",
        "import cv2\n",
        "from google.colab.patches import cv2_imshow\n",
        "from sklearn.cluster import KMeans\n",
        "import torch\n",
        "\n",
        "processor = SegformerImageProcessor.from_pretrained(\"mattmdjaga/segformer_b2_clothes\")\n",
        "model = AutoModelForSemanticSegmentation.from_pretrained(\"mattmdjaga/segformer_b2_clothes\")\n",
        "device = \"cuda:0\" if torch.cuda.is_available() else \"cpu\"\n",
        "model.to(device)\n",
        "print()"
      ]
    },
    {
      "cell_type": "code",
      "execution_count": null,
      "metadata": {
        "id": "ldsFy0wwzmjt"
      },
      "outputs": [],
      "source": [
        "def get_clothes_and_skin_colors(image):\n",
        "  # Load model\n",
        "  inputs = processor(images=image, return_tensors=\"pt\").to(device)\n",
        "  outputs = model(**inputs)\n",
        "  logits = outputs.logits.cpu()\n",
        "\n",
        "  upsampled_logits = nn.functional.interpolate(\n",
        "      logits,\n",
        "      size=image.size[::-1],\n",
        "      mode=\"bilinear\",\n",
        "      align_corners=False,\n",
        "  )\n",
        "\n",
        "  # Get the segmentation prediction\n",
        "  pred_seg = upsampled_logits.argmax(dim=1)[0]\n",
        "\n",
        "  rows, cols = pred_seg.shape\n",
        "  upper_mask = np.full((rows, cols), False, dtype=bool)\n",
        "  lower_mask = np.full((rows,cols), False, dtype=bool)\n",
        "  skin_mask = np.full((rows,cols), False, dtype=bool)\n",
        "  dress_mask = np.full((rows,cols), False, dtype=bool)\n",
        "  has_upper = False\n",
        "  has_lower = False\n",
        "  has_skin = False\n",
        "  has_dress = False\n",
        "  # Iterate through the 2D tensor array with indices\n",
        "\n",
        "  # Convert pytorch tensor to numpy array to optimize\n",
        "  segmentation = pred_seg.detach().cpu().numpy()\n",
        "\n",
        "  for i in range(rows):\n",
        "      for j in range(cols):\n",
        "        v = segmentation[i, j]\n",
        "        if v == 4: # upper clothes\n",
        "          upper_mask[i, j] = True\n",
        "          has_upper = True\n",
        "        elif v == 6 or v == 5: # pants or skirt\n",
        "          lower_mask[i, j] = True\n",
        "          has_lower = True\n",
        "        elif v in [11, 12, 13, 14, 15]: #body parts\n",
        "          skin_mask[i, j]=  True\n",
        "          has_skin = True\n",
        "        elif v == 7: # dress:\n",
        "          dress_mask[i, j] =  True\n",
        "          has_dress = True\n",
        "\n",
        "\n",
        "  if not has_skin:\n",
        "    return None\n",
        "  if has_dress:\n",
        "    dress_color = getColorDominantFromMask(image, dress_mask)\n",
        "    return (dress_color, dress_color,getColorDominantFromMask(image, skin_mask))\n",
        "  elif not has_upper or not has_lower:\n",
        "    return None\n",
        "  else:\n",
        "    return (getColorDominantFromMask(image, upper_mask), getColorDominantFromMask(image, lower_mask), getColorDominantFromMask(image, skin_mask))\n",
        "\n",
        "\n",
        "def getColorDominantFromMask(image, mask):\n",
        "  # apply mask\n",
        "  binary_mask = (mask * 255).astype(np.uint8)\n",
        "\n",
        "  # convert PIL image to openCV image\n",
        "  imageCV = cv2.cvtColor(np.array(image), cv2.COLOR_RGB2BGRA)\n",
        "\n",
        "  # add the forth dimension (opacity)\n",
        "  four_channel_mask = cv2.merge([binary_mask] * 4)\n",
        "\n",
        "  # Apply mask\n",
        "  result = cv2.bitwise_and(imageCV, four_channel_mask)\n",
        "\n",
        "  # Convert to PIL image\n",
        "  pil_image = Image.fromarray(cv2.cvtColor(result, cv2.COLOR_BGR2RGBA))\n",
        "\n",
        "  # get dominant color\n",
        "  colors, pixel_count = extcolors.extract_from_image(pil_image)\n",
        "  return colors[0][0]\n",
        "def get_skin_color(image):\n",
        "\n",
        "\n",
        "  inputs = processor(images=image, return_tensors=\"pt\").to(device)\n",
        "  outputs = model(**inputs)\n",
        "  logits = outputs.logits.cpu()\n",
        "\n",
        "  upsampled_logits = nn.functional.interpolate(\n",
        "      logits,\n",
        "      size=image.size[::-1],\n",
        "      mode=\"bilinear\",\n",
        "      align_corners=False,\n",
        "  )\n",
        "\n",
        "  # Get the segmentation prediction\n",
        "  pred_seg = upsampled_logits.argmax(dim=1)[0]\n",
        "  rows, cols = pred_seg.shape\n",
        "\n",
        "  skin_mask = np.full((rows,cols), False, dtype=bool)\n",
        "  segmentation = pred_seg.detach().cpu().numpy()\n",
        "  has_skin = False\n",
        "\n",
        "  for i in range(rows):\n",
        "      for j in range(cols):\n",
        "        v = segmentation[i, j]\n",
        "        if v in [11,12,13,14,15]: #body parts (11 face, 12 left leg, 13 right leg, arms...)\n",
        "          skin_mask[i,j]=  True\n",
        "          has_skin = True\n",
        "\n",
        "  return getColorDominantFromMask(image,skin_mask)"
      ]
    },
    {
      "cell_type": "code",
      "execution_count": null,
      "metadata": {
        "id": "nZo-MZzjUpf6"
      },
      "outputs": [],
      "source": [
        "from google.colab import files\n",
        "src = list(files.upload().values())[0] # upload image\n",
        "open('uploaded_image.jpg','wb').write(src)\n",
        "image= Image.open('uploaded_image.jpg')\n",
        "plt.imshow(image)\n",
        "skin_color = get_skin_color(image)\n",
        "print(colored_background(int(skin_color[0]), int(skin_color[1]), int(skin_color[2]), \"skin_color\"), end=' ')"
      ]
    },
    {
      "cell_type": "code",
      "execution_count": null,
      "metadata": {
        "id": "Y026VfGV02xA",
        "colab": {
          "base_uri": "https://localhost:8080/"
        },
        "outputId": "d155a898-bb85-4960-fd48-283062f8142b"
      },
      "outputs": [
        {
          "output_type": "stream",
          "name": "stdout",
          "text": [
            "\u001b[48;2;157;101;74mclosest skin cluster number 0\u001b[0m "
          ]
        }
      ],
      "source": [
        "rgb_input = normalize_to_srgb(skin_color)\n",
        "lab_input = colour.RGB_to_XYZ(rgb_input, *color_space)\n",
        "lab_input = colour.XYZ_to_Lab(lab_input)\n",
        "# find the closest skin cluster\n",
        "closest_skin_cluster = 0\n",
        "closest_skin_cluster_distance = 10000\n",
        "for skin_cluster in range(nb_cluster_skin):\n",
        "    lab_skin_cluster = cluster_centers_skin[skin_cluster]\n",
        "    distance = np.linalg.norm(lab_input - lab_skin_cluster)\n",
        "    if distance < closest_skin_cluster_distance:\n",
        "        closest_skin_cluster_distance = distance\n",
        "        closest_skin_cluster = skin_cluster\n",
        "\n",
        "rgb_closest_skin_cluster = lab_to_rgb(cluster_centers_skin[closest_skin_cluster])\n",
        "print(colored_background(int(rgb_closest_skin_cluster[0]), int(rgb_closest_skin_cluster[1]), int(rgb_closest_skin_cluster[2]), 'closest skin cluster number ' + str(closest_skin_cluster)), end=' ')"
      ]
    },
    {
      "cell_type": "markdown",
      "metadata": {
        "id": "z49EVxlANugK"
      },
      "source": [
        "# Récupération des occurences pour la teinte de peau de l'image"
      ]
    },
    {
      "cell_type": "code",
      "execution_count": null,
      "metadata": {
        "id": "EKDo6JBMNuBR",
        "colab": {
          "base_uri": "https://localhost:8080/"
        },
        "outputId": "4bf0193f-88f6-484a-9be7-03ef5e2625e3"
      },
      "outputs": [
        {
          "output_type": "stream",
          "name": "stdout",
          "text": [
            "Pas de score\n"
          ]
        }
      ],
      "source": [
        "def get_occurences_by_skin_cluster(skin_cluster, occurences):\n",
        "    occurences_by_skin_cluster = {}\n",
        "    for key, value in occurences.items():\n",
        "        if value['skin_cluster'] == skin_cluster:\n",
        "            occurences_by_skin_cluster[key] = value\n",
        "    occurences_by_skin_cluster = {k: v for k, v in sorted(occurences_by_skin_cluster.items(), key=lambda item: item[1]['occurences'], reverse=True)}\n",
        "    return occurences_by_skin_cluster\n",
        "\n",
        "\n",
        "def get_closest_cluster(lab_color, clusters):\n",
        "    closest_cluster = 0\n",
        "    closest_cluster_distance = 10000000\n",
        "    for center_cluster in range(len(clusters)):\n",
        "        lab_cluster = clusters[center_cluster]\n",
        "        distance = np.linalg.norm(lab_color - lab_cluster)\n",
        "        if distance < closest_cluster_distance:\n",
        "            closest_cluster_distance = distance\n",
        "            closest_cluster = center_cluster\n",
        "    return closest_cluster\n",
        "\n",
        "\n",
        "# for i in range(10):\n",
        "#     key = list(occurences_by_skin_cluster.keys())[i]\n",
        "#     value = occurences_by_skin_cluster[key]\n",
        "#     rgb_upper = lab_to_rgb(cluster_centers_upper[value['upper_cluster']])\n",
        "#     rgb_lower = lab_to_rgb(cluster_centers_lower[value['lower_cluster']])\n",
        "#     print(\"Occurences : \" + str(value['occurences']), end=' ')\n",
        "#     print(colored_background(int(rgb_upper[0]), int(rgb_upper[1]), int(rgb_upper[2]), f'Upper {value[\"upper_cluster\"]}'), end=' ')\n",
        "#     print(colored_background(int(rgb_lower[0]), int(rgb_lower[1]), int(rgb_lower[2]), f'Lower {value[\"lower_cluster\"]}'), end=' ')\n",
        "#     print(\"Exemple d'image : \" + value['path'])\n",
        "#     print(\"\\n\")"
      ]
    },
    {
      "cell_type": "markdown",
      "source": [
        "# Calcul de score"
      ],
      "metadata": {
        "id": "FoUec8E-7keO"
      }
    },
    {
      "cell_type": "code",
      "source": [
        "def get_max_occ(cluster):\n",
        "  max_key=max(cluster, key=lambda k: cluster[k]['occurences'])\n",
        "  return cluster[max_key]['occurences']\n",
        "\n",
        "\n",
        "def score(occurences, upper_clusters, lower_clusters, skin_clusters, image_input,closest_skin_cluster):\n",
        "    occurences_by_skin_cluster = get_occurences_by_skin_cluster(closest_skin_cluster, occurences)\n",
        "    max_occ = get_max_occ(occurences_by_skin_cluster)\n",
        "    colors_set = get_clothes_and_skin_colors(image_input)\n",
        "\n",
        "    # if there is an undetected color, we dont give a score\n",
        "    if colors_set == None or not all(colors_set):\n",
        "      return None\n",
        "    upper_color, lower_color, skin_color = colors_set\n",
        "    upper_lab, lower_lab, skin_lab = rgb_to_lab(upper_color), rgb_to_lab(lower_color), rgb_to_lab(skin_color)\n",
        "    closest_upper_cluster, closest_lower_cluster,closest_skin_cluster = get_closest_cluster(upper_lab, upper_clusters), get_closest_cluster(lower_lab, lower_clusters), get_closest_cluster(skin_lab, skin_clusters)\n",
        "    key = str(closest_skin_cluster) + ',' + str(closest_upper_cluster) +',' +str(closest_lower_cluster)\n",
        "    if key in occurences:\n",
        "        return (occurences[key]['occurences']/max_occ) *30 + 70\n",
        "    else:\n",
        "        return None\n",
        "\n",
        "\n",
        "s = score(occurences,cluster_centers_upper,cluster_centers_lower,cluster_centers_skin,image,closest_skin_cluster)\n",
        "if s == None:\n",
        "  print(\"Pas de score\")\n",
        "else:\n",
        "  print(\"Score:\" + str(s))\n"
      ],
      "metadata": {
        "id": "afmjWBGj7rFJ"
      },
      "execution_count": null,
      "outputs": []
    }
  ],
  "metadata": {
    "colab": {
      "provenance": [],
      "include_colab_link": true
    },
    "kernelspec": {
      "display_name": "Python 3",
      "name": "python3"
    },
    "language_info": {
      "name": "python"
    },
    "widgets": {
      "application/vnd.jupyter.widget-state+json": {
        "0197f32f3a6b48eb896f2043dd57580c": {
          "model_module": "@jupyter-widgets/controls",
          "model_name": "HBoxModel",
          "model_module_version": "1.5.0",
          "state": {
            "_dom_classes": [],
            "_model_module": "@jupyter-widgets/controls",
            "_model_module_version": "1.5.0",
            "_model_name": "HBoxModel",
            "_view_count": null,
            "_view_module": "@jupyter-widgets/controls",
            "_view_module_version": "1.5.0",
            "_view_name": "HBoxView",
            "box_style": "",
            "children": [
              "IPY_MODEL_e0e69cd94d39476e9e010174b6aa43de",
              "IPY_MODEL_31165a70369a4419b116655181468b66",
              "IPY_MODEL_889139138255467da162403cdcf63f2e"
            ],
            "layout": "IPY_MODEL_3f635a777a0d4c65aa898ce84d408ee0"
          }
        },
        "e0e69cd94d39476e9e010174b6aa43de": {
          "model_module": "@jupyter-widgets/controls",
          "model_name": "HTMLModel",
          "model_module_version": "1.5.0",
          "state": {
            "_dom_classes": [],
            "_model_module": "@jupyter-widgets/controls",
            "_model_module_version": "1.5.0",
            "_model_name": "HTMLModel",
            "_view_count": null,
            "_view_module": "@jupyter-widgets/controls",
            "_view_module_version": "1.5.0",
            "_view_name": "HTMLView",
            "description": "",
            "description_tooltip": null,
            "layout": "IPY_MODEL_e15f5bb09ffa4ac2820b4c2c3f806a3c",
            "placeholder": "​",
            "style": "IPY_MODEL_8275383e752c46b9824c5ed02bdc59d6",
            "value": "preprocessor_config.json: 100%"
          }
        },
        "31165a70369a4419b116655181468b66": {
          "model_module": "@jupyter-widgets/controls",
          "model_name": "FloatProgressModel",
          "model_module_version": "1.5.0",
          "state": {
            "_dom_classes": [],
            "_model_module": "@jupyter-widgets/controls",
            "_model_module_version": "1.5.0",
            "_model_name": "FloatProgressModel",
            "_view_count": null,
            "_view_module": "@jupyter-widgets/controls",
            "_view_module_version": "1.5.0",
            "_view_name": "ProgressView",
            "bar_style": "success",
            "description": "",
            "description_tooltip": null,
            "layout": "IPY_MODEL_962bd3c1be97432894d098f57f01acb1",
            "max": 271,
            "min": 0,
            "orientation": "horizontal",
            "style": "IPY_MODEL_4816dd2b49ce41d38031f977c1623b0c",
            "value": 271
          }
        },
        "889139138255467da162403cdcf63f2e": {
          "model_module": "@jupyter-widgets/controls",
          "model_name": "HTMLModel",
          "model_module_version": "1.5.0",
          "state": {
            "_dom_classes": [],
            "_model_module": "@jupyter-widgets/controls",
            "_model_module_version": "1.5.0",
            "_model_name": "HTMLModel",
            "_view_count": null,
            "_view_module": "@jupyter-widgets/controls",
            "_view_module_version": "1.5.0",
            "_view_name": "HTMLView",
            "description": "",
            "description_tooltip": null,
            "layout": "IPY_MODEL_87473c3ce2d94ebebeec6509c216f620",
            "placeholder": "​",
            "style": "IPY_MODEL_ec58dff0fcc14d47b7e6e9366f6deb5e",
            "value": " 271/271 [00:00&lt;00:00, 3.57kB/s]"
          }
        },
        "3f635a777a0d4c65aa898ce84d408ee0": {
          "model_module": "@jupyter-widgets/base",
          "model_name": "LayoutModel",
          "model_module_version": "1.2.0",
          "state": {
            "_model_module": "@jupyter-widgets/base",
            "_model_module_version": "1.2.0",
            "_model_name": "LayoutModel",
            "_view_count": null,
            "_view_module": "@jupyter-widgets/base",
            "_view_module_version": "1.2.0",
            "_view_name": "LayoutView",
            "align_content": null,
            "align_items": null,
            "align_self": null,
            "border": null,
            "bottom": null,
            "display": null,
            "flex": null,
            "flex_flow": null,
            "grid_area": null,
            "grid_auto_columns": null,
            "grid_auto_flow": null,
            "grid_auto_rows": null,
            "grid_column": null,
            "grid_gap": null,
            "grid_row": null,
            "grid_template_areas": null,
            "grid_template_columns": null,
            "grid_template_rows": null,
            "height": null,
            "justify_content": null,
            "justify_items": null,
            "left": null,
            "margin": null,
            "max_height": null,
            "max_width": null,
            "min_height": null,
            "min_width": null,
            "object_fit": null,
            "object_position": null,
            "order": null,
            "overflow": null,
            "overflow_x": null,
            "overflow_y": null,
            "padding": null,
            "right": null,
            "top": null,
            "visibility": null,
            "width": null
          }
        },
        "e15f5bb09ffa4ac2820b4c2c3f806a3c": {
          "model_module": "@jupyter-widgets/base",
          "model_name": "LayoutModel",
          "model_module_version": "1.2.0",
          "state": {
            "_model_module": "@jupyter-widgets/base",
            "_model_module_version": "1.2.0",
            "_model_name": "LayoutModel",
            "_view_count": null,
            "_view_module": "@jupyter-widgets/base",
            "_view_module_version": "1.2.0",
            "_view_name": "LayoutView",
            "align_content": null,
            "align_items": null,
            "align_self": null,
            "border": null,
            "bottom": null,
            "display": null,
            "flex": null,
            "flex_flow": null,
            "grid_area": null,
            "grid_auto_columns": null,
            "grid_auto_flow": null,
            "grid_auto_rows": null,
            "grid_column": null,
            "grid_gap": null,
            "grid_row": null,
            "grid_template_areas": null,
            "grid_template_columns": null,
            "grid_template_rows": null,
            "height": null,
            "justify_content": null,
            "justify_items": null,
            "left": null,
            "margin": null,
            "max_height": null,
            "max_width": null,
            "min_height": null,
            "min_width": null,
            "object_fit": null,
            "object_position": null,
            "order": null,
            "overflow": null,
            "overflow_x": null,
            "overflow_y": null,
            "padding": null,
            "right": null,
            "top": null,
            "visibility": null,
            "width": null
          }
        },
        "8275383e752c46b9824c5ed02bdc59d6": {
          "model_module": "@jupyter-widgets/controls",
          "model_name": "DescriptionStyleModel",
          "model_module_version": "1.5.0",
          "state": {
            "_model_module": "@jupyter-widgets/controls",
            "_model_module_version": "1.5.0",
            "_model_name": "DescriptionStyleModel",
            "_view_count": null,
            "_view_module": "@jupyter-widgets/base",
            "_view_module_version": "1.2.0",
            "_view_name": "StyleView",
            "description_width": ""
          }
        },
        "962bd3c1be97432894d098f57f01acb1": {
          "model_module": "@jupyter-widgets/base",
          "model_name": "LayoutModel",
          "model_module_version": "1.2.0",
          "state": {
            "_model_module": "@jupyter-widgets/base",
            "_model_module_version": "1.2.0",
            "_model_name": "LayoutModel",
            "_view_count": null,
            "_view_module": "@jupyter-widgets/base",
            "_view_module_version": "1.2.0",
            "_view_name": "LayoutView",
            "align_content": null,
            "align_items": null,
            "align_self": null,
            "border": null,
            "bottom": null,
            "display": null,
            "flex": null,
            "flex_flow": null,
            "grid_area": null,
            "grid_auto_columns": null,
            "grid_auto_flow": null,
            "grid_auto_rows": null,
            "grid_column": null,
            "grid_gap": null,
            "grid_row": null,
            "grid_template_areas": null,
            "grid_template_columns": null,
            "grid_template_rows": null,
            "height": null,
            "justify_content": null,
            "justify_items": null,
            "left": null,
            "margin": null,
            "max_height": null,
            "max_width": null,
            "min_height": null,
            "min_width": null,
            "object_fit": null,
            "object_position": null,
            "order": null,
            "overflow": null,
            "overflow_x": null,
            "overflow_y": null,
            "padding": null,
            "right": null,
            "top": null,
            "visibility": null,
            "width": null
          }
        },
        "4816dd2b49ce41d38031f977c1623b0c": {
          "model_module": "@jupyter-widgets/controls",
          "model_name": "ProgressStyleModel",
          "model_module_version": "1.5.0",
          "state": {
            "_model_module": "@jupyter-widgets/controls",
            "_model_module_version": "1.5.0",
            "_model_name": "ProgressStyleModel",
            "_view_count": null,
            "_view_module": "@jupyter-widgets/base",
            "_view_module_version": "1.2.0",
            "_view_name": "StyleView",
            "bar_color": null,
            "description_width": ""
          }
        },
        "87473c3ce2d94ebebeec6509c216f620": {
          "model_module": "@jupyter-widgets/base",
          "model_name": "LayoutModel",
          "model_module_version": "1.2.0",
          "state": {
            "_model_module": "@jupyter-widgets/base",
            "_model_module_version": "1.2.0",
            "_model_name": "LayoutModel",
            "_view_count": null,
            "_view_module": "@jupyter-widgets/base",
            "_view_module_version": "1.2.0",
            "_view_name": "LayoutView",
            "align_content": null,
            "align_items": null,
            "align_self": null,
            "border": null,
            "bottom": null,
            "display": null,
            "flex": null,
            "flex_flow": null,
            "grid_area": null,
            "grid_auto_columns": null,
            "grid_auto_flow": null,
            "grid_auto_rows": null,
            "grid_column": null,
            "grid_gap": null,
            "grid_row": null,
            "grid_template_areas": null,
            "grid_template_columns": null,
            "grid_template_rows": null,
            "height": null,
            "justify_content": null,
            "justify_items": null,
            "left": null,
            "margin": null,
            "max_height": null,
            "max_width": null,
            "min_height": null,
            "min_width": null,
            "object_fit": null,
            "object_position": null,
            "order": null,
            "overflow": null,
            "overflow_x": null,
            "overflow_y": null,
            "padding": null,
            "right": null,
            "top": null,
            "visibility": null,
            "width": null
          }
        },
        "ec58dff0fcc14d47b7e6e9366f6deb5e": {
          "model_module": "@jupyter-widgets/controls",
          "model_name": "DescriptionStyleModel",
          "model_module_version": "1.5.0",
          "state": {
            "_model_module": "@jupyter-widgets/controls",
            "_model_module_version": "1.5.0",
            "_model_name": "DescriptionStyleModel",
            "_view_count": null,
            "_view_module": "@jupyter-widgets/base",
            "_view_module_version": "1.2.0",
            "_view_name": "StyleView",
            "description_width": ""
          }
        },
        "b528b819b74f42e6bd6bd7413b92d9d8": {
          "model_module": "@jupyter-widgets/controls",
          "model_name": "HBoxModel",
          "model_module_version": "1.5.0",
          "state": {
            "_dom_classes": [],
            "_model_module": "@jupyter-widgets/controls",
            "_model_module_version": "1.5.0",
            "_model_name": "HBoxModel",
            "_view_count": null,
            "_view_module": "@jupyter-widgets/controls",
            "_view_module_version": "1.5.0",
            "_view_name": "HBoxView",
            "box_style": "",
            "children": [
              "IPY_MODEL_4818db41a1cb479b925a6ec8d4c912f3",
              "IPY_MODEL_9391c3f0de824882b613892800991044",
              "IPY_MODEL_7f799cd00cc24476a60061eb9b2bfb5b"
            ],
            "layout": "IPY_MODEL_af403e8a13924d2cb6ad53f103724092"
          }
        },
        "4818db41a1cb479b925a6ec8d4c912f3": {
          "model_module": "@jupyter-widgets/controls",
          "model_name": "HTMLModel",
          "model_module_version": "1.5.0",
          "state": {
            "_dom_classes": [],
            "_model_module": "@jupyter-widgets/controls",
            "_model_module_version": "1.5.0",
            "_model_name": "HTMLModel",
            "_view_count": null,
            "_view_module": "@jupyter-widgets/controls",
            "_view_module_version": "1.5.0",
            "_view_name": "HTMLView",
            "description": "",
            "description_tooltip": null,
            "layout": "IPY_MODEL_d933d5fc90d141c0bd84483cfb9ff84f",
            "placeholder": "​",
            "style": "IPY_MODEL_ec418c8d8186477fa59f68368c564fab",
            "value": "config.json: 100%"
          }
        },
        "9391c3f0de824882b613892800991044": {
          "model_module": "@jupyter-widgets/controls",
          "model_name": "FloatProgressModel",
          "model_module_version": "1.5.0",
          "state": {
            "_dom_classes": [],
            "_model_module": "@jupyter-widgets/controls",
            "_model_module_version": "1.5.0",
            "_model_name": "FloatProgressModel",
            "_view_count": null,
            "_view_module": "@jupyter-widgets/controls",
            "_view_module_version": "1.5.0",
            "_view_name": "ProgressView",
            "bar_style": "success",
            "description": "",
            "description_tooltip": null,
            "layout": "IPY_MODEL_f3cbd12a73b9423d8a391e21222d4008",
            "max": 1727,
            "min": 0,
            "orientation": "horizontal",
            "style": "IPY_MODEL_d0621406429344709d064d21ae8c5f1c",
            "value": 1727
          }
        },
        "7f799cd00cc24476a60061eb9b2bfb5b": {
          "model_module": "@jupyter-widgets/controls",
          "model_name": "HTMLModel",
          "model_module_version": "1.5.0",
          "state": {
            "_dom_classes": [],
            "_model_module": "@jupyter-widgets/controls",
            "_model_module_version": "1.5.0",
            "_model_name": "HTMLModel",
            "_view_count": null,
            "_view_module": "@jupyter-widgets/controls",
            "_view_module_version": "1.5.0",
            "_view_name": "HTMLView",
            "description": "",
            "description_tooltip": null,
            "layout": "IPY_MODEL_56dee28dbe4d4ca382307d2401110479",
            "placeholder": "​",
            "style": "IPY_MODEL_2ee2aeffbb744d55a98fc7cb068ccf1a",
            "value": " 1.73k/1.73k [00:00&lt;00:00, 18.6kB/s]"
          }
        },
        "af403e8a13924d2cb6ad53f103724092": {
          "model_module": "@jupyter-widgets/base",
          "model_name": "LayoutModel",
          "model_module_version": "1.2.0",
          "state": {
            "_model_module": "@jupyter-widgets/base",
            "_model_module_version": "1.2.0",
            "_model_name": "LayoutModel",
            "_view_count": null,
            "_view_module": "@jupyter-widgets/base",
            "_view_module_version": "1.2.0",
            "_view_name": "LayoutView",
            "align_content": null,
            "align_items": null,
            "align_self": null,
            "border": null,
            "bottom": null,
            "display": null,
            "flex": null,
            "flex_flow": null,
            "grid_area": null,
            "grid_auto_columns": null,
            "grid_auto_flow": null,
            "grid_auto_rows": null,
            "grid_column": null,
            "grid_gap": null,
            "grid_row": null,
            "grid_template_areas": null,
            "grid_template_columns": null,
            "grid_template_rows": null,
            "height": null,
            "justify_content": null,
            "justify_items": null,
            "left": null,
            "margin": null,
            "max_height": null,
            "max_width": null,
            "min_height": null,
            "min_width": null,
            "object_fit": null,
            "object_position": null,
            "order": null,
            "overflow": null,
            "overflow_x": null,
            "overflow_y": null,
            "padding": null,
            "right": null,
            "top": null,
            "visibility": null,
            "width": null
          }
        },
        "d933d5fc90d141c0bd84483cfb9ff84f": {
          "model_module": "@jupyter-widgets/base",
          "model_name": "LayoutModel",
          "model_module_version": "1.2.0",
          "state": {
            "_model_module": "@jupyter-widgets/base",
            "_model_module_version": "1.2.0",
            "_model_name": "LayoutModel",
            "_view_count": null,
            "_view_module": "@jupyter-widgets/base",
            "_view_module_version": "1.2.0",
            "_view_name": "LayoutView",
            "align_content": null,
            "align_items": null,
            "align_self": null,
            "border": null,
            "bottom": null,
            "display": null,
            "flex": null,
            "flex_flow": null,
            "grid_area": null,
            "grid_auto_columns": null,
            "grid_auto_flow": null,
            "grid_auto_rows": null,
            "grid_column": null,
            "grid_gap": null,
            "grid_row": null,
            "grid_template_areas": null,
            "grid_template_columns": null,
            "grid_template_rows": null,
            "height": null,
            "justify_content": null,
            "justify_items": null,
            "left": null,
            "margin": null,
            "max_height": null,
            "max_width": null,
            "min_height": null,
            "min_width": null,
            "object_fit": null,
            "object_position": null,
            "order": null,
            "overflow": null,
            "overflow_x": null,
            "overflow_y": null,
            "padding": null,
            "right": null,
            "top": null,
            "visibility": null,
            "width": null
          }
        },
        "ec418c8d8186477fa59f68368c564fab": {
          "model_module": "@jupyter-widgets/controls",
          "model_name": "DescriptionStyleModel",
          "model_module_version": "1.5.0",
          "state": {
            "_model_module": "@jupyter-widgets/controls",
            "_model_module_version": "1.5.0",
            "_model_name": "DescriptionStyleModel",
            "_view_count": null,
            "_view_module": "@jupyter-widgets/base",
            "_view_module_version": "1.2.0",
            "_view_name": "StyleView",
            "description_width": ""
          }
        },
        "f3cbd12a73b9423d8a391e21222d4008": {
          "model_module": "@jupyter-widgets/base",
          "model_name": "LayoutModel",
          "model_module_version": "1.2.0",
          "state": {
            "_model_module": "@jupyter-widgets/base",
            "_model_module_version": "1.2.0",
            "_model_name": "LayoutModel",
            "_view_count": null,
            "_view_module": "@jupyter-widgets/base",
            "_view_module_version": "1.2.0",
            "_view_name": "LayoutView",
            "align_content": null,
            "align_items": null,
            "align_self": null,
            "border": null,
            "bottom": null,
            "display": null,
            "flex": null,
            "flex_flow": null,
            "grid_area": null,
            "grid_auto_columns": null,
            "grid_auto_flow": null,
            "grid_auto_rows": null,
            "grid_column": null,
            "grid_gap": null,
            "grid_row": null,
            "grid_template_areas": null,
            "grid_template_columns": null,
            "grid_template_rows": null,
            "height": null,
            "justify_content": null,
            "justify_items": null,
            "left": null,
            "margin": null,
            "max_height": null,
            "max_width": null,
            "min_height": null,
            "min_width": null,
            "object_fit": null,
            "object_position": null,
            "order": null,
            "overflow": null,
            "overflow_x": null,
            "overflow_y": null,
            "padding": null,
            "right": null,
            "top": null,
            "visibility": null,
            "width": null
          }
        },
        "d0621406429344709d064d21ae8c5f1c": {
          "model_module": "@jupyter-widgets/controls",
          "model_name": "ProgressStyleModel",
          "model_module_version": "1.5.0",
          "state": {
            "_model_module": "@jupyter-widgets/controls",
            "_model_module_version": "1.5.0",
            "_model_name": "ProgressStyleModel",
            "_view_count": null,
            "_view_module": "@jupyter-widgets/base",
            "_view_module_version": "1.2.0",
            "_view_name": "StyleView",
            "bar_color": null,
            "description_width": ""
          }
        },
        "56dee28dbe4d4ca382307d2401110479": {
          "model_module": "@jupyter-widgets/base",
          "model_name": "LayoutModel",
          "model_module_version": "1.2.0",
          "state": {
            "_model_module": "@jupyter-widgets/base",
            "_model_module_version": "1.2.0",
            "_model_name": "LayoutModel",
            "_view_count": null,
            "_view_module": "@jupyter-widgets/base",
            "_view_module_version": "1.2.0",
            "_view_name": "LayoutView",
            "align_content": null,
            "align_items": null,
            "align_self": null,
            "border": null,
            "bottom": null,
            "display": null,
            "flex": null,
            "flex_flow": null,
            "grid_area": null,
            "grid_auto_columns": null,
            "grid_auto_flow": null,
            "grid_auto_rows": null,
            "grid_column": null,
            "grid_gap": null,
            "grid_row": null,
            "grid_template_areas": null,
            "grid_template_columns": null,
            "grid_template_rows": null,
            "height": null,
            "justify_content": null,
            "justify_items": null,
            "left": null,
            "margin": null,
            "max_height": null,
            "max_width": null,
            "min_height": null,
            "min_width": null,
            "object_fit": null,
            "object_position": null,
            "order": null,
            "overflow": null,
            "overflow_x": null,
            "overflow_y": null,
            "padding": null,
            "right": null,
            "top": null,
            "visibility": null,
            "width": null
          }
        },
        "2ee2aeffbb744d55a98fc7cb068ccf1a": {
          "model_module": "@jupyter-widgets/controls",
          "model_name": "DescriptionStyleModel",
          "model_module_version": "1.5.0",
          "state": {
            "_model_module": "@jupyter-widgets/controls",
            "_model_module_version": "1.5.0",
            "_model_name": "DescriptionStyleModel",
            "_view_count": null,
            "_view_module": "@jupyter-widgets/base",
            "_view_module_version": "1.2.0",
            "_view_name": "StyleView",
            "description_width": ""
          }
        },
        "c26b5b4a94554e85820cd985c93b8523": {
          "model_module": "@jupyter-widgets/controls",
          "model_name": "HBoxModel",
          "model_module_version": "1.5.0",
          "state": {
            "_dom_classes": [],
            "_model_module": "@jupyter-widgets/controls",
            "_model_module_version": "1.5.0",
            "_model_name": "HBoxModel",
            "_view_count": null,
            "_view_module": "@jupyter-widgets/controls",
            "_view_module_version": "1.5.0",
            "_view_name": "HBoxView",
            "box_style": "",
            "children": [
              "IPY_MODEL_18e8ee5d81a84ea582e99be8c42ed942",
              "IPY_MODEL_19d2e923a39944229869e9da65d8497a",
              "IPY_MODEL_d03d1d7c1d2c49f9b2a3eaa5d2eb064c"
            ],
            "layout": "IPY_MODEL_5be3c9db2eae44b4aecd0d4cddda521f"
          }
        },
        "18e8ee5d81a84ea582e99be8c42ed942": {
          "model_module": "@jupyter-widgets/controls",
          "model_name": "HTMLModel",
          "model_module_version": "1.5.0",
          "state": {
            "_dom_classes": [],
            "_model_module": "@jupyter-widgets/controls",
            "_model_module_version": "1.5.0",
            "_model_name": "HTMLModel",
            "_view_count": null,
            "_view_module": "@jupyter-widgets/controls",
            "_view_module_version": "1.5.0",
            "_view_name": "HTMLView",
            "description": "",
            "description_tooltip": null,
            "layout": "IPY_MODEL_ff26d138aca34a2bbc333d9070123922",
            "placeholder": "​",
            "style": "IPY_MODEL_3360de6ea7d045a7b111133e1f36881a",
            "value": "model.safetensors: 100%"
          }
        },
        "19d2e923a39944229869e9da65d8497a": {
          "model_module": "@jupyter-widgets/controls",
          "model_name": "FloatProgressModel",
          "model_module_version": "1.5.0",
          "state": {
            "_dom_classes": [],
            "_model_module": "@jupyter-widgets/controls",
            "_model_module_version": "1.5.0",
            "_model_name": "FloatProgressModel",
            "_view_count": null,
            "_view_module": "@jupyter-widgets/controls",
            "_view_module_version": "1.5.0",
            "_view_name": "ProgressView",
            "bar_style": "success",
            "description": "",
            "description_tooltip": null,
            "layout": "IPY_MODEL_4e66d16b33674a618cd1657af20df63f",
            "max": 109493236,
            "min": 0,
            "orientation": "horizontal",
            "style": "IPY_MODEL_d364e62aa2f44104a1639a4057432880",
            "value": 109493236
          }
        },
        "d03d1d7c1d2c49f9b2a3eaa5d2eb064c": {
          "model_module": "@jupyter-widgets/controls",
          "model_name": "HTMLModel",
          "model_module_version": "1.5.0",
          "state": {
            "_dom_classes": [],
            "_model_module": "@jupyter-widgets/controls",
            "_model_module_version": "1.5.0",
            "_model_name": "HTMLModel",
            "_view_count": null,
            "_view_module": "@jupyter-widgets/controls",
            "_view_module_version": "1.5.0",
            "_view_name": "HTMLView",
            "description": "",
            "description_tooltip": null,
            "layout": "IPY_MODEL_3bd4036951264d54bd47a50410ba21e4",
            "placeholder": "​",
            "style": "IPY_MODEL_f1705f35790744fba70535414ae2ce78",
            "value": " 109M/109M [00:01&lt;00:00, 107MB/s]"
          }
        },
        "5be3c9db2eae44b4aecd0d4cddda521f": {
          "model_module": "@jupyter-widgets/base",
          "model_name": "LayoutModel",
          "model_module_version": "1.2.0",
          "state": {
            "_model_module": "@jupyter-widgets/base",
            "_model_module_version": "1.2.0",
            "_model_name": "LayoutModel",
            "_view_count": null,
            "_view_module": "@jupyter-widgets/base",
            "_view_module_version": "1.2.0",
            "_view_name": "LayoutView",
            "align_content": null,
            "align_items": null,
            "align_self": null,
            "border": null,
            "bottom": null,
            "display": null,
            "flex": null,
            "flex_flow": null,
            "grid_area": null,
            "grid_auto_columns": null,
            "grid_auto_flow": null,
            "grid_auto_rows": null,
            "grid_column": null,
            "grid_gap": null,
            "grid_row": null,
            "grid_template_areas": null,
            "grid_template_columns": null,
            "grid_template_rows": null,
            "height": null,
            "justify_content": null,
            "justify_items": null,
            "left": null,
            "margin": null,
            "max_height": null,
            "max_width": null,
            "min_height": null,
            "min_width": null,
            "object_fit": null,
            "object_position": null,
            "order": null,
            "overflow": null,
            "overflow_x": null,
            "overflow_y": null,
            "padding": null,
            "right": null,
            "top": null,
            "visibility": null,
            "width": null
          }
        },
        "ff26d138aca34a2bbc333d9070123922": {
          "model_module": "@jupyter-widgets/base",
          "model_name": "LayoutModel",
          "model_module_version": "1.2.0",
          "state": {
            "_model_module": "@jupyter-widgets/base",
            "_model_module_version": "1.2.0",
            "_model_name": "LayoutModel",
            "_view_count": null,
            "_view_module": "@jupyter-widgets/base",
            "_view_module_version": "1.2.0",
            "_view_name": "LayoutView",
            "align_content": null,
            "align_items": null,
            "align_self": null,
            "border": null,
            "bottom": null,
            "display": null,
            "flex": null,
            "flex_flow": null,
            "grid_area": null,
            "grid_auto_columns": null,
            "grid_auto_flow": null,
            "grid_auto_rows": null,
            "grid_column": null,
            "grid_gap": null,
            "grid_row": null,
            "grid_template_areas": null,
            "grid_template_columns": null,
            "grid_template_rows": null,
            "height": null,
            "justify_content": null,
            "justify_items": null,
            "left": null,
            "margin": null,
            "max_height": null,
            "max_width": null,
            "min_height": null,
            "min_width": null,
            "object_fit": null,
            "object_position": null,
            "order": null,
            "overflow": null,
            "overflow_x": null,
            "overflow_y": null,
            "padding": null,
            "right": null,
            "top": null,
            "visibility": null,
            "width": null
          }
        },
        "3360de6ea7d045a7b111133e1f36881a": {
          "model_module": "@jupyter-widgets/controls",
          "model_name": "DescriptionStyleModel",
          "model_module_version": "1.5.0",
          "state": {
            "_model_module": "@jupyter-widgets/controls",
            "_model_module_version": "1.5.0",
            "_model_name": "DescriptionStyleModel",
            "_view_count": null,
            "_view_module": "@jupyter-widgets/base",
            "_view_module_version": "1.2.0",
            "_view_name": "StyleView",
            "description_width": ""
          }
        },
        "4e66d16b33674a618cd1657af20df63f": {
          "model_module": "@jupyter-widgets/base",
          "model_name": "LayoutModel",
          "model_module_version": "1.2.0",
          "state": {
            "_model_module": "@jupyter-widgets/base",
            "_model_module_version": "1.2.0",
            "_model_name": "LayoutModel",
            "_view_count": null,
            "_view_module": "@jupyter-widgets/base",
            "_view_module_version": "1.2.0",
            "_view_name": "LayoutView",
            "align_content": null,
            "align_items": null,
            "align_self": null,
            "border": null,
            "bottom": null,
            "display": null,
            "flex": null,
            "flex_flow": null,
            "grid_area": null,
            "grid_auto_columns": null,
            "grid_auto_flow": null,
            "grid_auto_rows": null,
            "grid_column": null,
            "grid_gap": null,
            "grid_row": null,
            "grid_template_areas": null,
            "grid_template_columns": null,
            "grid_template_rows": null,
            "height": null,
            "justify_content": null,
            "justify_items": null,
            "left": null,
            "margin": null,
            "max_height": null,
            "max_width": null,
            "min_height": null,
            "min_width": null,
            "object_fit": null,
            "object_position": null,
            "order": null,
            "overflow": null,
            "overflow_x": null,
            "overflow_y": null,
            "padding": null,
            "right": null,
            "top": null,
            "visibility": null,
            "width": null
          }
        },
        "d364e62aa2f44104a1639a4057432880": {
          "model_module": "@jupyter-widgets/controls",
          "model_name": "ProgressStyleModel",
          "model_module_version": "1.5.0",
          "state": {
            "_model_module": "@jupyter-widgets/controls",
            "_model_module_version": "1.5.0",
            "_model_name": "ProgressStyleModel",
            "_view_count": null,
            "_view_module": "@jupyter-widgets/base",
            "_view_module_version": "1.2.0",
            "_view_name": "StyleView",
            "bar_color": null,
            "description_width": ""
          }
        },
        "3bd4036951264d54bd47a50410ba21e4": {
          "model_module": "@jupyter-widgets/base",
          "model_name": "LayoutModel",
          "model_module_version": "1.2.0",
          "state": {
            "_model_module": "@jupyter-widgets/base",
            "_model_module_version": "1.2.0",
            "_model_name": "LayoutModel",
            "_view_count": null,
            "_view_module": "@jupyter-widgets/base",
            "_view_module_version": "1.2.0",
            "_view_name": "LayoutView",
            "align_content": null,
            "align_items": null,
            "align_self": null,
            "border": null,
            "bottom": null,
            "display": null,
            "flex": null,
            "flex_flow": null,
            "grid_area": null,
            "grid_auto_columns": null,
            "grid_auto_flow": null,
            "grid_auto_rows": null,
            "grid_column": null,
            "grid_gap": null,
            "grid_row": null,
            "grid_template_areas": null,
            "grid_template_columns": null,
            "grid_template_rows": null,
            "height": null,
            "justify_content": null,
            "justify_items": null,
            "left": null,
            "margin": null,
            "max_height": null,
            "max_width": null,
            "min_height": null,
            "min_width": null,
            "object_fit": null,
            "object_position": null,
            "order": null,
            "overflow": null,
            "overflow_x": null,
            "overflow_y": null,
            "padding": null,
            "right": null,
            "top": null,
            "visibility": null,
            "width": null
          }
        },
        "f1705f35790744fba70535414ae2ce78": {
          "model_module": "@jupyter-widgets/controls",
          "model_name": "DescriptionStyleModel",
          "model_module_version": "1.5.0",
          "state": {
            "_model_module": "@jupyter-widgets/controls",
            "_model_module_version": "1.5.0",
            "_model_name": "DescriptionStyleModel",
            "_view_count": null,
            "_view_module": "@jupyter-widgets/base",
            "_view_module_version": "1.2.0",
            "_view_name": "StyleView",
            "description_width": ""
          }
        }
      }
    }
  },
  "nbformat": 4,
  "nbformat_minor": 0
}